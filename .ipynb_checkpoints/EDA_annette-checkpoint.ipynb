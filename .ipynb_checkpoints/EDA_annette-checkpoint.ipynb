{
 "cells": [
  {
   "cell_type": "markdown",
   "metadata": {
    "toc": true
   },
   "source": [
    "<h1>Table of Contents<span class=\"tocSkip\"></span></h1>\n",
    "<div class=\"toc\"><ul class=\"toc-item\"><li><span><a href=\"#Final-Project-Check-in\" data-toc-modified-id=\"Final-Project-Check-in-1\">Final Project Check-in</a></span></li><li><span><a href=\"#Group-Name\" data-toc-modified-id=\"Group-Name-2\">Group Name</a></span></li><li><span><a href=\"#Student-Names\" data-toc-modified-id=\"Student-Names-3\">Student Names</a></span></li><li><span><a href=\"#Load-Data\" data-toc-modified-id=\"Load-Data-4\">Load Data</a></span></li><li><span><a href=\"#Fit-scikit-learn-model\" data-toc-modified-id=\"Fit-scikit-learn-model-5\">Fit scikit-learn model</a></span></li><li><span><a href=\"#Evaluation-Metric\" data-toc-modified-id=\"Evaluation-Metric-6\">Evaluation Metric</a></span></li></ul></div>"
   ]
  },
  {
   "cell_type": "markdown",
   "metadata": {},
   "source": [
    "Final Project Check-in\n",
    "------"
   ]
  },
  {
   "cell_type": "markdown",
   "metadata": {},
   "source": [
    "Group Name\n",
    "-----"
   ]
  },
  {
   "cell_type": "markdown",
   "metadata": {},
   "source": [
    "Kakkle "
   ]
  },
  {
   "cell_type": "markdown",
   "metadata": {},
   "source": [
    "Student Names\n",
    "----"
   ]
  },
  {
   "cell_type": "markdown",
   "metadata": {},
   "source": [
    "1. Annette (Zijun) Lin\n",
    "2. Ming-Chuan Tsai\n",
    "3. Kathy Yi"
   ]
  },
  {
   "cell_type": "markdown",
   "metadata": {},
   "source": [
    "Load Data\n",
    "-----"
   ]
  },
  {
   "cell_type": "code",
   "execution_count": 1,
   "metadata": {},
   "outputs": [],
   "source": [
    "import pandas as pd\n",
    "import numpy as np\n",
    "\n",
    "df = pd.read_csv(\"forestfires.csv\")\n",
    "\n",
    "df['month'] = df['month'].map({'mar':3, 'oct':10, 'aug':8, 'sep':9, 'apr':4, 'jun':6, 'jul':7, 'feb':2, 'jan':1,\n",
    "       'dec':12, 'may':5, 'nov':11})\n",
    "df['day'] = df['day'].map({'fri': 5, 'tue': 2, 'sat': 6, 'sun': 7, 'mon': 1, 'wed': 3, 'thu':4})"
   ]
  },
  {
   "cell_type": "markdown",
   "metadata": {},
   "source": [
    "## Fit models"
   ]
  },
  {
   "cell_type": "code",
   "execution_count": 2,
   "metadata": {},
   "outputs": [],
   "source": [
    "from sklearn.model_selection import train_test_split\n",
    "import matplotlib.pyplot as plt\n",
    "\n",
    "from sklearn.linear_model import LogisticRegression\n",
    "from sklearn.neighbors import KNeighborsClassifier\n",
    "from sklearn.naive_bayes import GaussianNB\n",
    "from sklearn.svm import SVC\n",
    "from sklearn.ensemble import RandomForestClassifier\n",
    "from sklearn.metrics import f1_score\n",
    "from sklearn.metrics import confusion_matrix\n",
    "from sklearn.pipeline import Pipeline\n",
    "from sklearn.preprocessing import StandardScaler\n",
    "from imblearn.over_sampling import SMOTE\n",
    "\n",
    "def make_pipelines():\n",
    "    \"\"\"Create a pipeline for each of the following algorithms:\n",
    "    1. Logistic Regression\n",
    "    2. k-nearest neighbors (KNN) \n",
    "    3. Naive Bayes (Guassian)\n",
    "    4. Support Vector Machines (SVM)\n",
    "    5. Random Forest™ \n",
    "    \n",
    "    If appropriate, apply StandardScaler before the algorithm.   \n",
    "    Use default hyperparameters.\n",
    "    If an algorithm takes random_state then random_state=42 \n",
    "    \n",
    "    Return a list of all the pipelines.\n",
    "    \"\"\" \n",
    "    # YOUR CODE HERE\n",
    "    pipe_lr = Pipeline([('scl', StandardScaler()), ('clf', LogisticRegression(random_state=42))])\n",
    "    pipe_knn = Pipeline([('scl', StandardScaler()), ('clf', KNeighborsClassifier())])\n",
    "    pipe_bayes = Pipeline([('clf', GaussianNB())])\n",
    "    pipe_svm = Pipeline([('scl', StandardScaler()),('clf', SVC(random_state=42))])\n",
    "    pipe_rf = Pipeline([('clf', RandomForestClassifier(random_state=42))])\n",
    "    \n",
    "    pipelines = [pipe_lr, pipe_knn, pipe_bayes, pipe_svm, pipe_rf]\n",
    "    \n",
    "    \n",
    "    return pipelines\n",
    "\n",
    "def sort_models(pipelines, X_data, y_data, metric=f1_score, average='weighted', matrix=False):\n",
    "\n",
    "    scores_sorted = {}\n",
    "    for pipe in pipelines:\n",
    "        y_pred = pipe.predict(X_data)\n",
    "        algname = str(type(pipe.named_steps['clf'])).split('.')[-1].replace(\"'>\",\"\")\n",
    "        if matrix:\n",
    "            print(algname)\n",
    "            print(confusion_matrix(y_data, y_pred))\n",
    "        scores_sorted[algname] = metric(y_data, y_pred, average=average)\n",
    "    scores_sorted = dict(sorted(scores_sorted.items(), key=lambda x: x[1], reverse=True))\n",
    "    \n",
    "    return scores_sorted"
   ]
  },
  {
   "cell_type": "markdown",
   "metadata": {},
   "source": [
    "## Test confusion matrix"
   ]
  },
  {
   "cell_type": "code",
   "execution_count": 3,
   "metadata": {},
   "outputs": [
    {
     "name": "stdout",
     "output_type": "stream",
     "text": [
      "LogisticRegression\n",
      "[[ 2  1  0]\n",
      " [16 13 13]\n",
      " [16 18 25]]\n",
      "KNeighborsClassifier\n",
      "[[ 2  0  1]\n",
      " [ 8 11 23]\n",
      " [20 24 15]]\n",
      "GaussianNB\n",
      "[[ 3  0  0]\n",
      " [26  5 11]\n",
      " [41  4 14]]\n",
      "SVC\n",
      "[[ 1  1  1]\n",
      " [ 6 14 22]\n",
      " [14 23 22]]\n",
      "RandomForestClassifier\n",
      "[[ 0  2  1]\n",
      " [ 2 19 21]\n",
      " [ 4 26 29]]\n"
     ]
    },
    {
     "name": "stderr",
     "output_type": "stream",
     "text": [
      "/Users/kathleenyi/anaconda3/envs/ml/lib/python3.7/site-packages/sklearn/linear_model/logistic.py:432: FutureWarning: Default solver will be changed to 'lbfgs' in 0.22. Specify a solver to silence this warning.\n",
      "  FutureWarning)\n",
      "/Users/kathleenyi/anaconda3/envs/ml/lib/python3.7/site-packages/sklearn/linear_model/logistic.py:469: FutureWarning: Default multi_class will be changed to 'auto' in 0.22. Specify the multi_class option to silence this warning.\n",
      "  \"this warning.\", FutureWarning)\n",
      "/Users/kathleenyi/anaconda3/envs/ml/lib/python3.7/site-packages/sklearn/ensemble/forest.py:245: FutureWarning: The default value of n_estimators will change from 10 in version 0.20 to 100 in 0.22.\n",
      "  \"10 in version 0.20 to 100 in 0.22.\", FutureWarning)\n"
     ]
    },
    {
     "data": {
      "text/plain": [
       "{'RandomForestClassifier': 0.47155456902647913,\n",
       " 'LogisticRegression': 0.437437040529824,\n",
       " 'SVC': 0.3837647928994083,\n",
       " 'KNeighborsClassifier': 0.2925467389753104,\n",
       " 'GaussianNB': 0.2706590012190334}"
      ]
     },
     "execution_count": 3,
     "metadata": {},
     "output_type": "execute_result"
    }
   ],
   "source": [
    "# tweaking happens here\n",
    "df.loc[df.area >= 50, 'label'] = \"big\"\n",
    "df.loc[(df.area >= 1) & (df.area < 50), 'label'] = \"medium small\"\n",
    "df.loc[(df.area < 1), 'label'] = \"small\"\n",
    "\n",
    "y = df.iloc[:,-1].values\n",
    "X = df.iloc[:,:-2].values\n",
    "\n",
    "# split and smote\n",
    "X_train, X_test, y_train, y_test = train_test_split(X, y, test_size=0.2, random_state=15)\n",
    "X_smote, y_smote = SMOTE().fit_sample(X_train, y_train)\n",
    "\n",
    "# fit models\n",
    "pipelines = make_pipelines()\n",
    "for pipe in pipelines:\n",
    "    pipe.fit(X_smote, y_smote)\n",
    "\n",
    "sort_models(pipelines, X_test, y_test, matrix=True)"
   ]
  },
  {
   "cell_type": "markdown",
   "metadata": {},
   "source": [
    "## Training set metrics"
   ]
  },
  {
   "cell_type": "code",
   "execution_count": 115,
   "metadata": {},
   "outputs": [
    {
     "data": {
      "text/plain": [
       "{'RandomForestClassifier': 0.995291667248558,\n",
       " 'SVC': 0.8839000296743834,\n",
       " 'KNeighborsClassifier': 0.8449416863619356,\n",
       " 'LogisticRegression': 0.6220184137590969,\n",
       " 'GaussianNB': 0.48828364692620463}"
      ]
     },
     "execution_count": 115,
     "metadata": {},
     "output_type": "execute_result"
    }
   ],
   "source": [
    "sort_models(pipelines, X_smote, y_smote)"
   ]
  }
 ],
 "metadata": {
  "kernelspec": {
   "display_name": "Python 3",
   "language": "python",
   "name": "python3"
  },
  "toc": {
   "base_numbering": 1,
   "nav_menu": {},
   "number_sections": false,
   "sideBar": false,
   "skip_h1_title": false,
   "title_cell": "Table of Contents",
   "title_sidebar": "Contents",
   "toc_cell": true,
   "toc_position": {},
   "toc_section_display": true,
   "toc_window_display": false
  }
 },
 "nbformat": 4,
 "nbformat_minor": 2
}
